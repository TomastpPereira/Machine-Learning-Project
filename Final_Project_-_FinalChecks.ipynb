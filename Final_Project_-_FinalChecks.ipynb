{
 "cells": [
  {
   "cell_type": "markdown",
   "id": "b5daf1c4",
   "metadata": {},
   "source": [
    "# Import Libraries\n",
    "All vanilla code and functions demonstrated below are completely orignal. \n",
    "\n",
    "System was designed by Gabriel Giangi, Tomas Pereira and Aryamann Mehra from Concordia University in Montreal, Canada."
   ]
  },
  {
   "cell_type": "code",
   "execution_count": 23,
   "id": "a6717df1",
   "metadata": {},
   "outputs": [],
   "source": [
    "import pandas as pd\n",
    "import numpy as np\n",
    "import sklearn\n",
    "import matplotlib.pyplot as plt\n",
    "from sklearn.ensemble import RandomForestClassifier # Model used for carrier recommendation system\n",
    "from sklearn.model_selection import train_test_split # Used to split our dataset into training and test sets\n",
    "from sklearn.ensemble import RandomForestRegressor # Model used for lane price prediction system\n",
    "import warnings\n",
    "warnings.filterwarnings('ignore') # Ignore warnings for cleaner display (remove this for debugging)"
   ]
  },
  {
   "cell_type": "markdown",
   "id": "ea4b8516",
   "metadata": {},
   "source": [
    "# 1. Carrier Reccomendation System \n",
    "In this section, we construct a Random Forest Classifier using the sklearn library and modules. Although ideally the problem at hand is a multi-label classification problem, our data is formatted in a way that only supports multi-class classification. As you will see in the later steps, we transform our problem into a multi-label classifcation by making the classifier multi-output with the best N probabilities."
   ]
  },
  {
   "cell_type": "markdown",
   "id": "acc2295b",
   "metadata": {},
   "source": [
    "## 1.1 Import Data\n",
    "The data is formatted inside .CSV files, of which we used the pandas library to parse and save the data into corresponding dataframes. We then normalize the data by ensuring continous data types are formatted as continous, and one-hot-encode the categorical features. The last step involves using sklearn to split our data into proper training and test sets."
   ]
  },
  {
   "cell_type": "markdown",
   "id": "06eab229",
   "metadata": {},
   "source": [
    "The training set is split relatively higher than the standard, due to the imbalances of label occurences in our dataset. There are some labels that only appear once, so to ensure the model \"sees\" as many of these labels as possible during training, we allocated 90% of the data towards training."
   ]
  },
  {
   "cell_type": "code",
   "execution_count": 24,
   "id": "79b7bc2c",
   "metadata": {},
   "outputs": [],
   "source": [
    "# Import and store data\n",
    "X = pd.read_csv('X.csv', header=0)\n",
    "y = pd.read_csv('y.csv', header=0)\n",
    "\n",
    "# Normalize Dataset\n",
    "X = X.astype({\"Quantity\": 'float64', 'Ship Date': 'float64'})\n",
    "\n",
    "X_enc = sklearn.preprocessing.OneHotEncoder()\n",
    "X_object = X.select_dtypes('object')\n",
    "X_enc.fit(X_object)\n",
    "codes = X_enc.transform(X_object).toarray()\n",
    "\n",
    "X = pd.concat([X.select_dtypes(exclude='object'), \n",
    "               pd.DataFrame(codes).astype(int)], axis=1)\n",
    "\n",
    "yle = sklearn.preprocessing.LabelEncoder()\n",
    "yl = yle.fit_transform(y.values.ravel())\n",
    "\n",
    "# Split data into training and test sets\n",
    "X_train, X_test2, y_train, y_test2 = train_test_split(X, yl, random_state=22, train_size=.9)"
   ]
  },
  {
   "cell_type": "markdown",
   "id": "c5751172",
   "metadata": {},
   "source": [
    "## 1.2 Hyperparameter Selection\n",
    "Firstly, we run k-fold configuration to determine the approximate 'best' fold split when we run random search in the preceding step. "
   ]
  },
  {
   "cell_type": "markdown",
   "id": "899c5ef4",
   "metadata": {},
   "source": [
    "### 1.2.1 K-Fold Validation"
   ]
  },
  {
   "cell_type": "markdown",
   "id": "07b7321c",
   "metadata": {},
   "source": [
    "From our findings, we found that the split when k is equal to 6 or 7, yielded the highest held-out validation accuracy (30.2%), so we will use this fold for our random search."
   ]
  },
  {
   "cell_type": "code",
   "execution_count": 25,
   "id": "b5adf3a9",
   "metadata": {},
   "outputs": [
    {
     "name": "stdout",
     "output_type": "stream",
     "text": [
      "95.71 % training accuracy\n",
      "28.66 % testing accuracy\n",
      "held-out accuracy (2-fold):   29.3%\n",
      "held-out accuracy (3-fold):   29.7%\n",
      "held-out accuracy (4-fold):   29.8%\n",
      "held-out accuracy (5-fold):   30.2%\n",
      "held-out accuracy (6-fold):   30.2%\n",
      "held-out accuracy (7-fold):   30.2%\n",
      "held-out accuracy (8-fold):   29.7%\n",
      "held-out accuracy (9-fold):   29.7%\n"
     ]
    }
   ],
   "source": [
    "# K-Fold Validation\n",
    "dt = RandomForestClassifier(random_state=22, n_jobs=-1)\n",
    "dt.fit(X_train, y_train)\n",
    "\n",
    "# Print vanilla model accuracies for context\n",
    "print(\"{:.2f}\".format((dt.score(X_train, y_train))*100), '% training accuracy')\n",
    "print(\"{:.2f}\".format((dt.score(X_test2, y_test2))*100), '% testing accuracy')\n",
    "\n",
    "# Run k-fold validation\n",
    "for k in range(2, 10):\n",
    "    scores = sklearn.model_selection.cross_val_score(dt, X_train, y_train, cv=k)\n",
    "    print(\"held-out accuracy (%d-fold):   %.1f%%\" % (k, scores.mean()*100))"
   ]
  },
  {
   "cell_type": "markdown",
   "id": "fbeaf810",
   "metadata": {},
   "source": [
    "### 1.2.2 Random Search Best Hyperparameter Configuration"
   ]
  },
  {
   "cell_type": "markdown",
   "id": "cafb13cc",
   "metadata": {},
   "source": [
    "From the random search, the best approximate hyperparameter configuration was as followed:\n",
    "\n",
    "n_estimators = 250, \n",
    "max_depth = 15 with\n",
    "validation set accuracy at 32.7%"
   ]
  },
  {
   "cell_type": "code",
   "execution_count": 28,
   "id": "38944d04",
   "metadata": {},
   "outputs": [
    {
     "name": "stdout",
     "output_type": "stream",
     "text": [
      "best parameters: {'n_estimators': 250, 'max_depth': 15}\n",
      "32.7% accuracy on validation sets (average)\n"
     ]
    }
   ],
   "source": [
    "# Random Search Best Hyperparameter Configuration (with cv = 6)\n",
    "dt = RandomForestClassifier(random_state=22, n_jobs=-1)\n",
    "\n",
    "# Create hyperparameter dictionary to random search\n",
    "estimators_grid = np.array([10, 50, 100, 150, 200, 250, 300])\n",
    "depth_grid = np.array([1, 2, 5, 10, 14, 15, 16, 18, 20, 25, 50, 100, None])\n",
    "\n",
    "param_grid = {'max_depth': depth_grid, 'n_estimators': estimators_grid}\n",
    "randcv = sklearn.model_selection.RandomizedSearchCV(dt, param_grid, n_iter=30, cv=6).fit(X_train, y_train.ravel())\n",
    "\n",
    "# Print the best hyperparameter configuration found from search and the validation set accuracy\n",
    "print('best parameters:', randcv.best_params_)\n",
    "print('%.1f%% accuracy on validation sets (average)' % (randcv.best_score_*100))"
   ]
  },
  {
   "cell_type": "markdown",
   "id": "f5da01f6",
   "metadata": {},
   "source": [
    "## 1.3 Construct & Train Random Forest Model\n",
    "Here we simply build our classification model with the well performing hyperparameters and print the test and training accuracy for intuition.\n",
    "\n",
    "We got a training accuracy of 85.47% and test accuracy of 30.43%"
   ]
  },
  {
   "cell_type": "code",
   "execution_count": 29,
   "id": "00752c07",
   "metadata": {
    "scrolled": true
   },
   "outputs": [
    {
     "name": "stdout",
     "output_type": "stream",
     "text": [
      "85.47% training accuracy\n",
      "30.43% testing accuracy\n"
     ]
    }
   ],
   "source": [
    "# Create Random Forest Model\n",
    "dt = RandomForestClassifier(random_state=22, n_estimators=250, max_depth=15, n_jobs=-1)\n",
    "dt.fit(X_train, y_train)\n",
    "\n",
    "# Train the model and print accuracies\n",
    "train_accuracy = dt.score(X_train, y_train)\n",
    "test_accuracy = dt.score(X_test2, y_test2)\n",
    "print(\"%.2f%% training accuracy\" % (train_accuracy*100))\n",
    "print(\"%.2f%% testing accuracy\" % (test_accuracy*100))"
   ]
  },
  {
   "cell_type": "markdown",
   "id": "f2627daa",
   "metadata": {},
   "source": [
    "# 2. Price Prediction System\n",
    "This model aims to predict route carrier costs, based on weight, truck type, origin, destination, and more features. In conjuction with the carrier recommendation system, the two predicted metrics can give great insight into carrier shortages/surpluses in real time zones."
   ]
  },
  {
   "cell_type": "markdown",
   "id": "ae2b0875",
   "metadata": {},
   "source": [
    "## 2.1 Import Data\n",
    "The data is formatted inside .CSV files, of which we used the pandas library to parse and save the data into corresponding dataframes. We then normalize the data by ensuring continous data types are formatted as continous, and one-hot-encoding the categorical features. The last step involves using sklearn to split our data into proper training and test sets. The process is exactly the same as in 1.1, but with an additional feature: CARRIER."
   ]
  },
  {
   "cell_type": "code",
   "execution_count": 30,
   "id": "4ee74e16",
   "metadata": {},
   "outputs": [],
   "source": [
    "# Import and store data\n",
    "X = pd.read_csv('X2.csv', header=0)\n",
    "y = pd.read_csv('y2.csv', header=0)\n",
    "\n",
    "# Normalize Data\n",
    "X = X.astype({\"Quantity\": 'float64', 'Ship Date': 'float64'})\n",
    "\n",
    "X_enc2 = sklearn.preprocessing.OneHotEncoder()\n",
    "X_object = X.select_dtypes('object')\n",
    "X_enc2.fit(X_object)\n",
    "codes = X_enc2.transform(X_object).toarray()\n",
    "\n",
    "X = pd.concat([X.select_dtypes(exclude='object'), \n",
    "               pd.DataFrame(codes).astype(int)], axis=1)\n",
    "\n",
    "yle = sklearn.preprocessing.LabelEncoder()\n",
    "yl = yle.fit_transform(y)\n",
    "\n",
    "# Split data into training and test sets\n",
    "X_train, X_test, y_train, y_test = train_test_split(X, yl, random_state=22,train_size=.9)"
   ]
  },
  {
   "cell_type": "markdown",
   "id": "eeb5314b",
   "metadata": {},
   "source": [
    "## 2.2 Hyperparameter Selection\n",
    "Firstly, we run k-fold configuration to determine the approximate 'best' fold split when we run random search in the preceding step. "
   ]
  },
  {
   "cell_type": "markdown",
   "id": "412bd72b",
   "metadata": {},
   "source": [
    "### 2.2.1 K-Fold Validation\n",
    "From our findings, we found that the split when k=11 yielded the highest held-out accuracy, so we will use this fold for our random search."
   ]
  },
  {
   "cell_type": "code",
   "execution_count": 31,
   "id": "da7efae4",
   "metadata": {},
   "outputs": [
    {
     "name": "stdout",
     "output_type": "stream",
     "text": [
      "96.98 % training accuracy\n",
      "77.07 % testing accuracy\n",
      "held-out accuracy (2-fold):   76.80%\n",
      "held-out accuracy (3-fold):   77.50%\n",
      "held-out accuracy (4-fold):   77.91%\n",
      "held-out accuracy (5-fold):   78.50%\n",
      "held-out accuracy (6-fold):   78.69%\n",
      "held-out accuracy (7-fold):   78.84%\n",
      "held-out accuracy (8-fold):   79.00%\n",
      "held-out accuracy (9-fold):   79.24%\n",
      "held-out accuracy (10-fold):   79.40%\n",
      "held-out accuracy (11-fold):   79.43%\n",
      "held-out accuracy (12-fold):   79.34%\n"
     ]
    }
   ],
   "source": [
    "# K-Fold Validation\n",
    "regr = RandomForestRegressor(random_state=22, n_jobs = -1)\n",
    "regr.fit(X_train, y_train.ravel())\n",
    "\n",
    "# Print vanilla model accuracies for context\n",
    "print(\"{:.2f}\".format((regr.score(X_train, y_train))*100), '% training accuracy')\n",
    "print(\"{:.2f}\".format((regr.score(X_test, y_test))*100), '% testing accuracy')\n",
    "\n",
    "# Run k-fold validation\n",
    "for k in range(2, 13):\n",
    "    scores = sklearn.model_selection.cross_val_score(regr, X_train, y_train.ravel(), cv=k)\n",
    "    print(\"held-out accuracy (%d-fold):   %.2f%%\" % (k, scores.mean()*100))"
   ]
  },
  {
   "cell_type": "markdown",
   "id": "66076251",
   "metadata": {},
   "source": [
    "### 2.2.2 Random Search Best Hyperparameter Configuration\n",
    "From the random search, the best approximate hyperparameter configuration was as followed:\n",
    "\n",
    "n_estimators = 500, \n",
    "max_depth = 45 with\n",
    "validation set accuracy at 79.5%"
   ]
  },
  {
   "cell_type": "code",
   "execution_count": 33,
   "id": "8864f0d1",
   "metadata": {},
   "outputs": [
    {
     "name": "stdout",
     "output_type": "stream",
     "text": [
      "best parameters: {'n_estimators': 500, 'max_depth': 45}\n",
      "79.5% accuracy on validation sets (average)\n"
     ]
    }
   ],
   "source": [
    "# Random Search Best Hyperparameter Configuration (with cv = 11)\n",
    "regr = RandomForestRegressor(random_state=22, n_jobs=-1)\n",
    "\n",
    "# Create hyperparameter dictionary to randomly search\n",
    "estimators_grid = np.array([10, 50, 100, 150, 200,250,300,500])\n",
    "depth_grid = np.array([1, 5, 10, 15, 20, 25, 30, 35, 40, 45, 50, 100, 150, 200, None])\n",
    "param_grid = {'max_depth': depth_grid, 'n_estimators': estimators_grid}\n",
    "\n",
    "# Run random search algorithm\n",
    "randcv = sklearn.model_selection.RandomizedSearchCV(regr, param_grid, n_iter=30, cv=11)\n",
    "randcv.fit(X_train, y_train.ravel())\n",
    "\n",
    "# Print the best found hyperparameter configuration and validation accuracy\n",
    "print('best parameters:', randcv.best_params_)\n",
    "print('%.1f%% accuracy on validation sets (average)' % (randcv.best_score_*100))"
   ]
  },
  {
   "cell_type": "markdown",
   "id": "35c2efd6",
   "metadata": {},
   "source": [
    "## 2.3 Construct and Train Random Forest Regressor Model\n",
    "Here we simply build our regression model with well performing hyperparameters and print the test and training accuracy for intuition. We obtained a testing accuracy of 77.5% and a training accuracy of 97.0%"
   ]
  },
  {
   "cell_type": "code",
   "execution_count": 34,
   "id": "49cc5b50",
   "metadata": {},
   "outputs": [
    {
     "name": "stdout",
     "output_type": "stream",
     "text": [
      "97.0% training accuracy\n",
      "77.5% testing accuracy\n"
     ]
    }
   ],
   "source": [
    "regr = RandomForestRegressor(n_estimators=500, max_depth=45, random_state=22,\n",
    "                             n_jobs=-1).fit(X_train, y_train)\n",
    "\n",
    "train_accuracy = regr.score(X_train, y_train)\n",
    "test_accuracy = regr.score(X_test, y_test)\n",
    "\n",
    "print(\"%.1f%% training accuracy\" % (train_accuracy*100))\n",
    "print(\"%.1f%% testing accuracy\" % (test_accuracy*100))"
   ]
  },
  {
   "cell_type": "markdown",
   "id": "eb943534",
   "metadata": {},
   "source": [
    "# 3. Final System - Carrier Recommendation System \n",
    "Here in this final section, we combine both the classifier and the regression models with custom functions to display the best N carriers for a given route, and the predicted price per carrier. "
   ]
  },
  {
   "cell_type": "markdown",
   "id": "e8f967f6",
   "metadata": {},
   "source": [
    "### 3.1 Import Data"
   ]
  },
  {
   "cell_type": "code",
   "execution_count": 35,
   "id": "3a1c55b0",
   "metadata": {},
   "outputs": [],
   "source": [
    "# Import and store data\n",
    "X = pd.read_csv('X.csv', header=0)\n",
    "y = pd.read_csv('y.csv', header=0)\n",
    "\n",
    "# Normalize Data\n",
    "X = X.astype({\"Quantity\": 'float64', 'Ship Date': 'float64'})\n",
    "\n",
    "X_enc = sklearn.preprocessing.OneHotEncoder()\n",
    "X_object = X.select_dtypes('object')\n",
    "X_enc.fit(X_object)\n",
    "codes = X_enc.transform(X_object).toarray()\n",
    "\n",
    "X = pd.concat([X.select_dtypes(exclude='object'), \n",
    "               pd.DataFrame(codes).astype(int)], axis=1)\n",
    "\n",
    "yle = sklearn.preprocessing.LabelEncoder()\n",
    "yl = yle.fit_transform(y)\n",
    "\n",
    "X_train, X_test2, y_train, y_test2 = train_test_split(X, yl, random_state=22,\n",
    "                                                      train_size=.9)"
   ]
  },
  {
   "cell_type": "markdown",
   "id": "58db2b86",
   "metadata": {},
   "source": [
    "# 3.2 *CARRIER RECCOMENDATION SYSTEM* \n",
    "Here is the most important section of the notebook, as this is where we combine both models. In addition, we create three new custom functions *wrapInput*, *predictCarrier* and *predictPrice*. The role of these functions is to work together to accept custom lane input data, and make both a carrier recommendation with their predicted price. Please look at the docstrings to understand further how these functions work."
   ]
  },
  {
   "cell_type": "code",
   "execution_count": 37,
   "id": "independent-republic",
   "metadata": {},
   "outputs": [
    {
     "name": "stdout",
     "output_type": "stream",
     "text": [
      "\n",
      "Top Carrier: PRO LOGISTICS CARRIERS\n",
      "\n",
      "TOP 5 Carriers Recommended: \n",
      "PRO LOGISTICS CARRIERS - 20.2% - $938.2802857142857\n",
      "DBR TRANSPORT - 4.0% - $938.2802857142857\n",
      "EXPRESS MONDOR - 3.7% - $938.5722857142857\n",
      "TTR TRANSPORT - 3.6% - $938.2802857142857\n",
      "Trans Expert Freight System Inc. - 3.4% - $938.2802857142857\n"
     ]
    }
   ],
   "source": [
    "def wrapInput(inp):\n",
    "    \"\"\" \n",
    "PARAMS:\n",
    "The function takes in the custom input lane features as an array type (1 dimensional). This includes the features we feed to our model\n",
    "in order to make a prediction. We assume these are in a particular order, which is:\n",
    "[Date,Shipper City, Shipper State,Shipper Country, Consignee City, Consignee State, Consignee Country, Quantity, Type, Weight,\n",
    "Equipment Type]\n",
    "\n",
    "FUNCTIONALITY:\n",
    "This function calls our helper functions and makes a prediction on the sample input 'inp'. It first gets the 5 best \n",
    "recommended carriers for the given route (and the corresponding probabilities), and then gets a price prediction for each\n",
    "of these carriers. It displays the Top 5 carriers along with the individual price prediction for each carrier.\n",
    "\n",
    "RETURNS:\n",
    "0, because the function prints all the predictions and doesn't return this data to any other function.\n",
    "\n",
    "\"\"\"\n",
    "    # Call custom function PREDICTCARRIER \n",
    "    carrier, cp = predictCarrier(inp[0], inp[2], inp[3], inp[5], inp[6], inp[7],\n",
    "                                 inp[8], inp[9], inp[10])\n",
    "    # Iterate through the top 5 recommended carriers and call PREDICTPRICE custom function\n",
    "    prices = []\n",
    "    c = 0\n",
    "    print('TOP 5 Carriers Recommended: ')\n",
    "    for i in carrier:\n",
    "        price = predictPrice(inp[0], inp[1], inp[2], inp[3], inp[4], inp[5],\n",
    "                            inp[6], inp[7], inp[8], inp[9], inp[10], i)\n",
    "        prices.append(price)\n",
    "        print(carrier[c]+' - '+str(cp[c])+'%'+' - '+'$'+str(prices[c][0]))\n",
    "        c += 1\n",
    "    return 0\n",
    "\n",
    "\n",
    "def predictCarrier(date, sstate, scountry, cstate, ccountry, qty, typ, weight, etype):\n",
    "    \"\"\" \n",
    "PARAMS:\n",
    "The function takes in the input features needed for making a carrier prediction. \n",
    "The function is mainly called by the wrapper function makeCustomPrediction the input features are split up into\n",
    "different parameters, namely:\n",
    "Date (string/int), Shipper State (string), Shipper Country (string), Consignee State (string), Consignee Country (string), \n",
    "Quantity (int), Type (string), Weight (int),\n",
    "Equipment Type (string)\n",
    "\n",
    "FUNCTIONALITY:\n",
    "This function encodes our parameters with the encoders used for our ML models (one-hot for categorical, StandardScaler for continuous). \n",
    "It then gets a prediction(with probabilities) from our model for the custom input.\n",
    "Further, it decodes the top 5 results based on our y-encoders. It also prints out the carrier with the highest probability.\n",
    "\n",
    "RETURNS:\n",
    "A 2-tuple of 1d arrays. The first array contains strings which are the names of the top 5 carriers. The second array returns\n",
    "the corresponding probabilities of the top 5 carriers.\n",
    "\n",
    "\"\"\"\n",
    "    # Ensure features are normalized to proper dtype (continous vs discrete)\n",
    "    date = float(date)\n",
    "    weight = float(weight)\n",
    "    qty = float(qty)\n",
    "    cat_inp = [[sstate, scountry, cstate, ccountry, typ, etype]]\n",
    "    num_inp = [[qty, weight, date]]\n",
    "    \n",
    "    codes = X_enc.transform(cat_inp).toarray()\n",
    "    cenc = X_enc.transform(cat_inp).toarray()\n",
    "    \n",
    "    find = pd.concat([pd.DataFrame(num_inp), \n",
    "               pd.DataFrame(codes).astype(int)], axis=1)\n",
    "    \n",
    "    # Make prediction on lane features and transform for legible output\n",
    "    pred = dt.predict_proba(find)\n",
    "    # print(pred)\n",
    "    n = 5  # N best probabilities\n",
    "\n",
    "    top_n_lables_idx = np.argsort(-pred, axis=1)[:, :n]\n",
    "    top_n_probs = np.round(-np.sort(-pred), 3)[:, :n]*100\n",
    "    top_n_labels = [dt.classes_[i] for i in top_n_lables_idx]\n",
    "\n",
    "    results = list(zip(top_n_labels, top_n_probs))\n",
    "    top5_str = yle.inverse_transform(results[0][0])\n",
    "    top5_probs = np.round(results[0][1], 1)\n",
    "    top_str = yle.inverse_transform([results[0][0][0]])[0]\n",
    "\n",
    "    print('\\nTop Carrier: '+top_str+'\\n')\n",
    "    return top5_str, top5_probs\n",
    "\n",
    "\n",
    "def predictPrice(date, scity, sstate, scountry, ccity, cstate, ccountry, qty, typ, weight, etype, carrier):\n",
    "    \"\"\" \n",
    "PARAMS:\n",
    "The function takes in the input features needed for making a price prediction. \n",
    "The function is mainly called by the wrapper function makeCustomPrediction the input features are split up into\n",
    "different parameters, namely:\n",
    "Date (string/int), Shipper City (string), Shipper State (string), Shipper Country (string), Consignee City (string), \n",
    "Consignee State (string), Consignee Country (string), Quantity (int), Type (string), Weight (int), \n",
    "Equipment Type (string), Carrier (string)\n",
    "\n",
    "FUNCTIONALITY:\n",
    "This function encodes our parameters with the encoders used for our ML models (one-hot for categorical, \n",
    "StandardScaler for continuous). It then gets a price prediction from our Regression model for the given route and given carrier.\n",
    "\n",
    "\n",
    "RETURNS:\n",
    "The predicted price for a trip based on the given route and given carrier.\n",
    "\n",
    "\"\"\"\n",
    "    # Ensure features are normalized to proper dtypes (continous vs discrete)\n",
    "    date = float(date)\n",
    "    weight = float(weight)\n",
    "    qty = float(qty)\n",
    "    \n",
    "    cat_inp = [[scity, sstate, scountry, ccity, cstate, ccountry,\n",
    "                typ, etype, carrier]]\n",
    "    num_inp = [[qty, weight, date]]\n",
    "    codes = X_enc2.transform(cat_inp).toarray()\n",
    "    \n",
    "    find = pd.concat([pd.DataFrame(num_inp), \n",
    "               pd.DataFrame(codes).astype(int)], axis=1)\n",
    "    # Predict the price \n",
    "    pricepred = regr.predict(find)\n",
    "    return pricepred\n",
    "\n",
    "# CUSTOM ROUTE INPUT FOR PREDICTION \n",
    "#(Year, Origin City, Origin State, Origin Country, Destination City, Destination State, Destination Country, Quantity, Load Type FTL/LTL, Weight (lbs), Truck Type)\n",
    "sample = ['2022', 'Cleveland', 'OH', 'United States', 'Mississauga', 'ON', 'Canada',\n",
    "        '26', 'FTL', '47000', 'Flatbed']\n",
    "wrapInput(sample);\n"
   ]
  },
  {
   "cell_type": "markdown",
   "id": "545d4222",
   "metadata": {},
   "source": [
    "## 3.3 Custom Score Function\n",
    "In this section, we felt that the vanilla score function given by the random forest was too \"hard\" of a metric. As mentioned previously, the problem at hand is actually a multi-label problem, as there is the potential that multiple carriers can do the same route. Therefore, we don't want our accuracy function to mark the single output as \"incorrect\" if it doesn't match the actual label, as in reality (and the way our models are intended to work) there could be N carriers capable, so we want our accuracy function to reflect this. \n",
    "\n",
    "To complete such a task, we determine a \"correct\" classification if the actual carrier used in our dataset appears in 1 out of the 5 recommended carriers from our model. From basic math and statistics, we will almost certainly see an increase in both our training and test set accuracies.\n",
    "\n",
    "As you will see (and as expected) the training accuracy increases from 85.47% to 98.77% (+13.3%) and our testing accuracy increases from 30.43% to 50.20% (+19.77%)"
   ]
  },
  {
   "cell_type": "code",
   "execution_count": 41,
   "id": "painful-grenada",
   "metadata": {},
   "outputs": [
    {
     "name": "stdout",
     "output_type": "stream",
     "text": [
      "98.77% training accuracy\n",
      "50.20% testing accuracy\n"
     ]
    }
   ],
   "source": [
    "def score_top5(X, y, model):\n",
    "    \"\"\" \n",
    "PARAMS:\n",
    "Custom top 5 scoring function - it takes parameters X,y and the model (X and y are assumed to be pre-encoded to \n",
    "one-hot/StandardScaler and label encoding respectively) model could be any model which provides classwise output probabilities.\n",
    "\n",
    "FUNCTIONALITY:\n",
    "\n",
    "BRIEF: A custom scoring function, where instead of checking only the carrier with highest predicted probability with \n",
    "the actual carrier, we check the top 5 predicted carriers with the actual carrier. If any of the top 5 predicted carriers \n",
    "are the actual carrier, we count the prediction as correct.\n",
    "\n",
    "DETAILED WORKING:\n",
    "The function first calls the model to make predictions on X. It stores the probability matrix for the predictions.\n",
    "For each input in X, it decodes the 5 likeliest predictions made by the model (using the classifier model's y encoder). \n",
    "It takes these 5 likeliest carriers predicted by our model (for every input) and checks whether any one of these match with the actual\n",
    "carrier. If this is the case, we count the prediction as correct, if none of the top 5 are the actual carrier, we count it as\n",
    "incorrect. \n",
    "\n",
    "RETURNS:\n",
    "The function returns the calculated accuracy (num(correct)/num(total))\n",
    "\n",
    "\"\"\"\n",
    "    # Make prediction\n",
    "    y_pred = model.predict_proba(X)\n",
    "\n",
    "    n = 5  # N best probabilities\n",
    "\n",
    "    top_n_lables_idx = np.argsort(-y_pred, axis=1)[:, :n]\n",
    "    top_n_probs = np.round(-np.sort(-y_pred), 3)[:, :n]*100\n",
    "    top_n_labels = [model.classes_[i] for i in top_n_lables_idx]\n",
    "\n",
    "    results = list(zip(top_n_labels, top_n_probs))\n",
    "    res = results\n",
    "    c1 = 0\n",
    "    cor, incor, total = 0, 0, 0\n",
    "    for r in res:\n",
    "        top5_str = yle.inverse_transform(r[0])\n",
    "        if yle.inverse_transform([y[c1]])[0] in top5_str:\n",
    "            cor += 1\n",
    "        else:\n",
    "            incor += 1\n",
    "        total += 1\n",
    "        c1 += 1\n",
    "    acc = float(cor/total)\n",
    "    err = float(incor/total)\n",
    "    return acc\n",
    "\n",
    "# Accuracy Test\n",
    "train_accuracy = score_top5(X_train, y_train, dt)\n",
    "test_accuracy = score_top5(X_test2, y_test2, dt)\n",
    "\n",
    "print(\"%.2f%% training accuracy\" % (train_accuracy*100))\n",
    "print(\"%.2f%% testing accuracy\" % (test_accuracy*100))\n"
   ]
  },
  {
   "cell_type": "markdown",
   "id": "9247e3e3",
   "metadata": {},
   "source": [
    "# 4.0 Testing Perfomance Difference When Removing Low Occurences\n",
    "\n",
    "In this section, we consider how the quality of our data affects the performance of the model by progressively removing entries which have a label that occurs very few times. Our intuition was, the more occurances of a label is generally going to increase performance, since the model can better generalize the label and the model has a smaller label set to make predictions on (thus making it mathematically \"easier\" (more probable) to make a correct prediction).\n",
    "\n",
    "*Note: We did not run k-fold validation and random search to find the best set of hyperparameters, as we had limited time to complete the project. Ideally we would run these searches to obtain the best performing models for comparison. We tweaked the hyperparameters from the original model to obtain a relative best perfomance for our test set without random or exhaustive search algorithms.*"
   ]
  },
  {
   "cell_type": "markdown",
   "id": "cc1ff625",
   "metadata": {},
   "source": [
    "## 4.1 Training of Models with Modified Datasets (Carriers occuring >1 time)"
   ]
  },
  {
   "cell_type": "code",
   "execution_count": 169,
   "id": "99d2e2e0",
   "metadata": {},
   "outputs": [
    {
     "name": "stdout",
     "output_type": "stream",
     "text": [
      "87.76 % training accuracy\n",
      "37.86 % testing accuracy\n"
     ]
    }
   ],
   "source": [
    "# For Model Using Carriers occuring more than once \n",
    "\n",
    "# Importing Data (same as in section 1.1)\n",
    "\n",
    "# Import and store data\n",
    "X = pd.read_csv('DR1_X.csv', header=0)\n",
    "y = pd.read_csv('DR1_y.csv', header=0)\n",
    "\n",
    "# Normalize Data\n",
    "X = X.astype({\"Quantity\": 'float64', 'Ship Date': 'float64'})\n",
    "\n",
    "X_enc = sklearn.preprocessing.OneHotEncoder()\n",
    "X_object = X.select_dtypes('object')\n",
    "X_enc.fit(X_object)\n",
    "codes = X_enc.transform(X_object).toarray()\n",
    "\n",
    "X = pd.concat([X.select_dtypes(exclude='object'), \n",
    "               pd.DataFrame(codes).astype(int)], axis=1)\n",
    "\n",
    "yleDR1 = sklearn.preprocessing.LabelEncoder()\n",
    "yl = yleDR1.fit_transform(y)\n",
    "\n",
    "# Split data into training and test sets\n",
    "XR1_train, XR1_test, yR1_train, yR1_test = train_test_split(X, yl,\n",
    "                                                            random_state=22, train_size=.9)\n",
    "\n",
    "# Training Model \n",
    "dtRemoval1 = RandomForestClassifier(random_state=22, n_estimators=500,\n",
    "                                    max_depth=15, n_jobs=-1)\n",
    "dtRemoval1.fit(XR1_train, yR1_train)\n",
    "\n",
    "print(\"{:.2f}\".format((dtRemoval1.score(XR1_train, yR1_train))*100), '% training accuracy')\n",
    "print(\"{:.2f}\".format((dtRemoval1.score(XR1_test, yR1_test))*100), '% testing accuracy')\n"
   ]
  },
  {
   "cell_type": "markdown",
   "id": "f1e9635c",
   "metadata": {},
   "source": [
    "## 4.2 Training Model with Modified Dataset (Carriers occuring >2 times)"
   ]
  },
  {
   "cell_type": "code",
   "execution_count": 159,
   "id": "cc8ac60b",
   "metadata": {},
   "outputs": [
    {
     "name": "stdout",
     "output_type": "stream",
     "text": [
      "82.75 % training accuracy\n",
      "45.50 % testing accuracy\n"
     ]
    }
   ],
   "source": [
    "# For Model Using Carriers occuring more than twice\n",
    "\n",
    "# Importing Data (same as in section 1.1)\n",
    "\n",
    "# Import and store data\n",
    "X = pd.read_csv('DR2_X.csv', header=0)\n",
    "y = pd.read_csv('DR2_y.csv', header=0)\n",
    "\n",
    "# Normalize Data\n",
    "X = X.astype({\"Quantity\": 'float64', 'Ship Date': 'float64'})\n",
    "\n",
    "X_enc = sklearn.preprocessing.OneHotEncoder()\n",
    "X_object = X.select_dtypes('object')\n",
    "X_enc.fit(X_object)\n",
    "codes = X_enc.transform(X_object).toarray()\n",
    "\n",
    "X = pd.concat([X.select_dtypes(exclude='object'), \n",
    "               pd.DataFrame(codes).astype(int)], axis=1)\n",
    "\n",
    "yleDR2 = sklearn.preprocessing.LabelEncoder()\n",
    "yl = yleDR2.fit_transform(y)\n",
    "\n",
    "# Split data into training and test sets\n",
    "XR2_train, XR2_test, yR2_train, yR2_test = train_test_split(X, yl,\n",
    "                                                            random_state=22, train_size=.9)\n",
    "# Training Model\n",
    "dtRemoval2 = RandomForestClassifier(random_state=22, n_estimators=500,\n",
    "                                    max_depth=13, n_jobs=-1)\n",
    "dtRemoval2.fit(XR2_train, yR2_train)\n",
    "\n",
    "print(\"{:.2f}\".format((dtRemoval2.score(XR2_train, yR2_train))*100), '% training accuracy')\n",
    "print(\"{:.2f}\".format((dtRemoval2.score(XR2_test, yR2_test))*100), '% testing accuracy')\n"
   ]
  },
  {
   "cell_type": "markdown",
   "id": "5d564821",
   "metadata": {},
   "source": [
    "## 4.3 Training Model with Modified Dataset (Carriers occuring >3 times)"
   ]
  },
  {
   "cell_type": "code",
   "execution_count": 139,
   "id": "582f2b32",
   "metadata": {},
   "outputs": [
    {
     "name": "stdout",
     "output_type": "stream",
     "text": [
      "84.25 % training accuracy\n",
      "50.15 % testing accuracy\n"
     ]
    }
   ],
   "source": [
    "# For Model Using Carriers occuring more than three times\n",
    "\n",
    "# Importing Data (same as in section 1.1)\n",
    "\n",
    "X = pd.read_csv('DR3_X.csv', header=0)\n",
    "y = pd.read_csv('DR3_y.csv', header=0)\n",
    "\n",
    "# Normalize Data\n",
    "X = X.astype({\"Quantity\": 'float64', 'Ship Date': 'float64'})\n",
    "\n",
    "X_enc = sklearn.preprocessing.OneHotEncoder()\n",
    "X_object = X.select_dtypes('object')\n",
    "X_enc.fit(X_object)\n",
    "codes = X_enc.transform(X_object).toarray()\n",
    "\n",
    "X = pd.concat([X.select_dtypes(exclude='object'), \n",
    "               pd.DataFrame(codes).astype(int)], axis=1)\n",
    "\n",
    "yleDR3 = sklearn.preprocessing.LabelEncoder()\n",
    "yl = yleDR3.fit_transform(y)\n",
    "\n",
    "# Split data into training and test sets\n",
    "XR3_train, XR3_test, yR3_train, yR3_test = train_test_split(X, yl, random_state=22, train_size=.9)\n",
    "\n",
    "# Training Model\n",
    "dtRemoval3 = RandomForestClassifier(random_state=22, n_estimators=500,\n",
    "                                    max_depth=13, n_jobs=-1)\n",
    "dtRemoval3.fit(XR3_train, yR3_train)\n",
    "\n",
    "print(\"{:.2f}\".format((dtRemoval3.score(XR3_train, yR3_train))*100), '% training accuracy')\n",
    "print(\"{:.2f}\".format((dtRemoval3.score(XR3_test, yR3_test))*100), '% testing accuracy')\n"
   ]
  },
  {
   "cell_type": "markdown",
   "id": "8fd92dab",
   "metadata": {},
   "source": [
    "## 4.4 Visual Performance Comparison of All Models"
   ]
  },
  {
   "cell_type": "markdown",
   "id": "d8f77a5b",
   "metadata": {},
   "source": [
    "### 4.4.1 Bar Graph of Vanilla Sklearn Scoring Performance"
   ]
  },
  {
   "cell_type": "code",
   "execution_count": 170,
   "id": "a1e21744",
   "metadata": {
    "scrolled": false
   },
   "outputs": [
    {
     "data": {
      "image/png": "[encoded data removed]",
      "text/plain": [
       "<Figure size 720x360 with 1 Axes>"
      ]
     },
     "metadata": {
      "needs_background": "light"
     },
     "output_type": "display_data"
    }
   ],
   "source": [
    "models = ['All Carriers', 'Carriers Occuring 2+ Times', 'Carriers Occuring 3+ Times', 'Carriers Occuring 4+ Times']\n",
    "\n",
    "# Obtain accuracies of each model\n",
    "train_accuracies = [((dt.score(X_train, y_train))*100), ((dtRemoval1.score(XR1_train, yR1_train))*100),\n",
    "               ((dtRemoval2.score(XR2_train, yR2_train))*100), ((dtRemoval3.score(XR3_train, yR3_train))*100)]\n",
    "\n",
    "test_accuracies = [((dt.score(X_test2, y_test2))*100), ((dtRemoval1.score(XR1_test, yR1_test))*100),\n",
    "              ((dtRemoval2.score(XR2_test, yR2_test))*100), ((dtRemoval3.score(XR3_test, yR3_test))*100)]\n",
    "\n",
    "\n",
    "x = np.arange(len(models)).astype('float64')  # the label locations\n",
    "width = 0.35  # the width of the bars\n",
    "\n",
    "# Plot performances as bar graph\n",
    "fig = plt.figure(figsize=(10, 5))\n",
    "ax = fig.add_axes([0, 0, 1, 1])\n",
    "\n",
    "rects1 = ax.bar(x - width/2, test_accuracies, width, label='Test')\n",
    "rects2 = ax.bar(x + width/2, train_accuracies, width, label='Training')\n",
    "ax.set_xticks(x)\n",
    "ax.set_xticklabels(models)\n",
    "\n",
    "ax.bar_label(rects1, fmt='%.2f')\n",
    "ax.bar_label(rects2, fmt='%.2f')\n",
    "plt.title(\"Accuracy of Models When Removing Low Occurence Labels\")\n",
    "plt.ylabel(\"Accuracy %\")\n",
    "plt.legend()\n",
    "plt.show()"
   ]
  },
  {
   "cell_type": "markdown",
   "id": "632ea446",
   "metadata": {},
   "source": [
    "### 4.4.2 Bar Graph with Custom Top 5 Scoring Performance"
   ]
  },
  {
   "cell_type": "code",
   "execution_count": 171,
   "id": "e1d34636",
   "metadata": {},
   "outputs": [
    {
     "data": {
      "image/png": "[encoded data removed]",
      "text/plain": [
       "<Figure size 720x360 with 1 Axes>"
      ]
     },
     "metadata": {
      "needs_background": "light"
     },
     "output_type": "display_data"
    }
   ],
   "source": [
    "# Now Testing using Top 5 Scoring Function\n",
    "\n",
    "# Create graph labels\n",
    "models = ['All Carriers', 'Carriers Occuring 2+ Times', 'Carriers Occuring 3+ Times', 'Carriers Occuring 4+ Times']\n",
    "\n",
    "# Obtain accuracies\n",
    "train_accuracies = [(score_top5(X_train, y_train, dt)*100), (score_top5(XR1_train, yR1_train, dtRemoval1)*100),\n",
    "               (score_top5(XR2_train, yR2_train, dtRemoval2)*100), (score_top5(XR3_train, yR3_train, dtRemoval3)*100)]\n",
    "\n",
    "test_accuracies = [float(score_top5(X_test2, y_test2, dt)*100), float(score_top5(XR1_test, yR1_test, dtRemoval1)*100),\n",
    "              float(score_top5(XR2_test, yR2_test, dtRemoval2)*100), float(score_top5(XR3_test, yR3_test, dtRemoval3)*100)]\n",
    "\n",
    "# Plot accuracies\n",
    "x = np.arange(len(models))  # the label locations\n",
    "width = 0.35  # the width of the bars\n",
    "\n",
    "fig = plt.figure(figsize=(10, 5))\n",
    "ax = fig.add_axes([0, 0, 1, 1])\n",
    "\n",
    "rects1 = ax.bar(x - width/2, test_accuracies, width, label='Test')\n",
    "rects2 = ax.bar(x + width/2, train_accuracies, width, label='Training')\n",
    "ax.set_xticks(x)\n",
    "ax.set_xticklabels(models)\n",
    "\n",
    "ax.bar_label(rects1, fmt='%.2f')\n",
    "ax.bar_label(rects2, fmt='%.2f')\n",
    "plt.title(\"Accuracy of Models When Using Top 5 Scoring\")\n",
    "plt.ylabel(\"Accuracy %\")\n",
    "plt.legend()\n",
    "plt.show()"
   ]
  }
 ],
 "metadata": {
  "kernelspec": {
   "display_name": "Python 3 (ipykernel)",
   "language": "python",
   "name": "python3"
  },
  "language_info": {
   "codemirror_mode": {
    "name": "ipython",
    "version": 3
   },
   "file_extension": ".py",
   "mimetype": "text/x-python",
   "name": "python",
   "nbconvert_exporter": "python",
   "pygments_lexer": "ipython3",
   "version": "3.8.12"
  }
 },
 "nbformat": 4,
 "nbformat_minor": 5
}
